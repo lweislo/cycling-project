{
  "nbformat": 4,
  "nbformat_minor": 0,
  "metadata": {
    "colab": {
      "name": "OneDayRaceData.ipynb",
      "provenance": [],
      "private_outputs": true,
      "collapsed_sections": [],
      "authorship_tag": "ABX9TyMzzerhanFgAcxlIUN89AXA",
      "include_colab_link": true
    },
    "kernelspec": {
      "name": "python3",
      "display_name": "Python 3"
    }
  },
  "cells": [
    {
      "cell_type": "markdown",
      "metadata": {
        "id": "view-in-github",
        "colab_type": "text"
      },
      "source": [
        "<a href=\"https://colab.research.google.com/github/lweislo/cycling-project/blob/master/OneDayRaceData.ipynb\" target=\"_parent\"><img src=\"https://colab.research.google.com/assets/colab-badge.svg\" alt=\"Open In Colab\"/></a>"
      ]
    },
    {
      "cell_type": "code",
      "metadata": {
        "id": "Z_wM_azvGODb",
        "colab_type": "code",
        "colab": {}
      },
      "source": [
        "import requests\n",
        "import html5lib\n",
        "import pandas as pd\n",
        "from bs4 import BeautifulSoup\n",
        "import os\n",
        "import numpy as np\n",
        "import datetime\n",
        "from google.colab import files\n",
        "import re"
      ],
      "execution_count": 0,
      "outputs": []
    },
    {
      "cell_type": "code",
      "metadata": {
        "id": "sbJcgtCGGO61",
        "colab_type": "code",
        "colab": {}
      },
      "source": [
        "# Set the year range\n",
        "years = np.arange(1990, 2020, 1)\n",
        "len(years)"
      ],
      "execution_count": 0,
      "outputs": []
    },
    {
      "cell_type": "code",
      "metadata": {
        "id": "skencU3SGO-5",
        "colab_type": "code",
        "colab": {}
      },
      "source": [
        "# Get the URLS to past races from race history\n",
        "race_name = 'Tour of Flanders'\n",
        "race_page = \"https://www.procyclingstats.com/race/ronde-van-vlaanderen/1990/history\"\n",
        "page = requests.get(race_page).content\n",
        "\n",
        "soup = BeautifulSoup(page, \"html5lib\")\n",
        "div = soup.find('table', class_=\"basic\")\n",
        "links = div.find_all('a')"
      ],
      "execution_count": 0,
      "outputs": []
    },
    {
      "cell_type": "code",
      "metadata": {
        "id": "94ELXL1mGb9O",
        "colab_type": "code",
        "colab": {}
      },
      "source": [
        "# Generate a list of all the race urls\n",
        "urls = []\n",
        "for i in links:\n",
        "    if 'race' in i.get('href'):\n",
        "            urls.append(\"https://www.procyclingstats.com/race/\" + i.get('href'))"
      ],
      "execution_count": 0,
      "outputs": []
    },
    {
      "cell_type": "code",
      "metadata": {
        "id": "HCfpypDQczw9",
        "colab_type": "code",
        "colab": {}
      },
      "source": [
        "urls"
      ],
      "execution_count": 0,
      "outputs": []
    },
    {
      "cell_type": "code",
      "metadata": {
        "id": "_FTlIOgkGkip",
        "colab_type": "code",
        "colab": {}
      },
      "source": [
        "# Just manually trim them to the ones you want\n",
        "url_list = ['https://www.procyclingstats.com/race/race/ronde-van-vlaanderen/2019',\n",
        " 'https://www.procyclingstats.com/race/race/ronde-van-vlaanderen/2018',\n",
        " 'https://www.procyclingstats.com/race/race/ronde-van-vlaanderen/2017',\n",
        " 'https://www.procyclingstats.com/race/race/ronde-van-vlaanderen/2016',\n",
        " 'https://www.procyclingstats.com/race/race/ronde-van-vlaanderen/2015',\n",
        " 'https://www.procyclingstats.com/race/race/ronde-van-vlaanderen/2014',\n",
        " 'https://www.procyclingstats.com/race/race/ronde-van-vlaanderen/2013',\n",
        " 'https://www.procyclingstats.com/race/race/ronde-van-vlaanderen/2012',\n",
        " 'https://www.procyclingstats.com/race/race/ronde-van-vlaanderen/2011',\n",
        " 'https://www.procyclingstats.com/race/race/ronde-van-vlaanderen/2010',\n",
        " 'https://www.procyclingstats.com/race/race/ronde-van-vlaanderen/2009',\n",
        " 'https://www.procyclingstats.com/race/race/ronde-van-vlaanderen/2008',\n",
        " 'https://www.procyclingstats.com/race/race/ronde-van-vlaanderen/2007',\n",
        " 'https://www.procyclingstats.com/race/race/ronde-van-vlaanderen/2006',\n",
        " 'https://www.procyclingstats.com/race/race/ronde-van-vlaanderen/2005',\n",
        " 'https://www.procyclingstats.com/race/race/ronde-van-vlaanderen/2004',\n",
        " 'https://www.procyclingstats.com/race/race/ronde-van-vlaanderen/2003',\n",
        " 'https://www.procyclingstats.com/race/race/ronde-van-vlaanderen/2002',\n",
        " 'https://www.procyclingstats.com/race/race/ronde-van-vlaanderen/2001',\n",
        " 'https://www.procyclingstats.com/race/race/ronde-van-vlaanderen/2000',\n",
        " 'https://www.procyclingstats.com/race/race/ronde-van-vlaanderen/1999',\n",
        " 'https://www.procyclingstats.com/race/race/ronde-van-vlaanderen/1998',\n",
        " 'https://www.procyclingstats.com/race/race/ronde-van-vlaanderen/1997',\n",
        " 'https://www.procyclingstats.com/race/race/ronde-van-vlaanderen/1996',\n",
        " 'https://www.procyclingstats.com/race/race/ronde-van-vlaanderen/1995',\n",
        " 'https://www.procyclingstats.com/race/race/ronde-van-vlaanderen/1994',\n",
        " 'https://www.procyclingstats.com/race/race/ronde-van-vlaanderen/1993',\n",
        " 'https://www.procyclingstats.com/race/race/ronde-van-vlaanderen/1992',\n",
        " 'https://www.procyclingstats.com/race/race/ronde-van-vlaanderen/1991',\n",
        " 'https://www.procyclingstats.com/race/race/ronde-van-vlaanderen/1990']"
      ],
      "execution_count": 0,
      "outputs": []
    },
    {
      "cell_type": "code",
      "metadata": {
        "id": "SMDVHXwBGwHw",
        "colab_type": "code",
        "colab": {}
      },
      "source": [
        "def get_data(new_url):\n",
        "\n",
        "    speed = np.NaN\n",
        "    page = requests.get(new_url)\n",
        "    if page.status_code == 200:\n",
        "        content = page.content\n",
        "        soup = BeautifulSoup(content, \"html5lib\")\n",
        "\n",
        "        try:\n",
        "            # Race year has its own class\n",
        "            year = int(soup.find('span', class_=\"year\").text)\n",
        "            # Pull out the race distance from the subheader (if it exists, if not nan)\n",
        "            if soup.find('span', class_=\"red distance\"):\n",
        "                distance = float(soup.find('span', class_=\"red distance\").text.split('(')[1].split(')')[0].split('k')[0])\n",
        "            else:\n",
        "                distance = np.NaN\n",
        "            # Get the race winning time \n",
        "            tables = soup.findChildren('table')\n",
        "            row1 = tables[0].findChildren('tr')\n",
        "            tm = row1[1].find(class_='timeff').text\n",
        "\n",
        "            # Other information is in a sidebar to the right\n",
        "            info = soup.find('div', class_=\"res-right\")\n",
        "            for item in info.find_all(\"b\"):\n",
        "                if 'Date' in item.text:\n",
        "                    date = item.next_sibling\n",
        "                elif 'speed' in item.text:\n",
        "                    speed = item.next_sibling\n",
        "                    speed = float(speed.split(' ')[1])\n",
        "                \n",
        "            # Finally spit out the data\n",
        "            data = {'Race': race_name, 'Date':date, 'Year': year, 'Distance':distance, 'Speed':speed, 'Time': tm}\n",
        "        except ElementDoesNotExist as e:\n",
        "            pass\n",
        "        return data"
      ],
      "execution_count": 0,
      "outputs": []
    },
    {
      "cell_type": "code",
      "metadata": {
        "id": "VwkgkV1yHhqq",
        "colab_type": "code",
        "colab": {}
      },
      "source": [
        "# First get the overview data for all years for the race\n",
        "df = pd.DataFrame(columns=['Race', 'Date', 'Year', 'Distance','Speed', 'Time'])\n",
        "\n",
        "for i in url_list:\n",
        "    if i:\n",
        "        print(i)\n",
        "        data = get_data(i)\n",
        "        df = df.append(data, ignore_index=True)\n",
        "    else:\n",
        "        pass"
      ],
      "execution_count": 0,
      "outputs": []
    },
    {
      "cell_type": "code",
      "metadata": {
        "id": "cVR0uDfxQTVv",
        "colab_type": "code",
        "colab": {}
      },
      "source": [
        "# Export overview data\n",
        "outfile = f'{race_name}_data.csv'\n",
        "with open(outfile, 'w') as file:\n",
        "    file.write(df.to_csv(header=True, index=False, encoding='Latin-1'))\n",
        "\n",
        "files.download(outfile)"
      ],
      "execution_count": 0,
      "outputs": []
    },
    {
      "cell_type": "code",
      "metadata": {
        "id": "l33gzB3qGPDO",
        "colab_type": "code",
        "colab": {}
      },
      "source": [
        "def pcscrape(stage_url):\n",
        "    # print(f\"Getting result links for {stage_url}\")\n",
        "    year = stage_url.split('/')[-1]\n",
        "    page = requests.get(stage_url)\n",
        "\n",
        "    if page.status_code == 200:\n",
        "        content = page.content\n",
        "        soup = BeautifulSoup(content, \"html5lib\")\n",
        "\n",
        "        try:\n",
        "            div = soup.find(class_=\"resultCont\")\n",
        "            for match in soup.findAll('span', class_='timeff'):\n",
        "                match.replace_with('')\n",
        "            for match in soup.findAll('span', class_='teammob'):\n",
        "                match.replace_with('')\n",
        "            for match in soup.findAll('span', class_='uppercase'):\n",
        "                match.append(',')\n",
        "            if soup.find('span', class_=\"red distance\"):\n",
        "                distance = float(soup.find('span', class_=\"red distance\").text.split('(')[1].split(')')[0].split('k')[0])\n",
        "            # Get the nationalities into a series\n",
        "            nations = []\n",
        "            table1 = div.findChildren('table')[0]\n",
        "            rows = table1.findChildren('tr')\n",
        "            for i in rows:\n",
        "                nations.append(i.attrs.get('data-nation'))\n",
        "            nations.pop(0)\n",
        "            # Now get the data table but only columns we want\n",
        "            results = pd.read_html(str(div))\n",
        "            res_df = pd.DataFrame()\n",
        "            res_df['Rank'] = results[0]['Rnk']\n",
        "            res_df['Rider'] = results[0]['Rider'].str.split(', ').str[::-1].str.join(' ')\n",
        "            res_df['Nation'] = nations\n",
        "            res_df['Age'] = results[0]['Age']\n",
        "            res_df['Team'] = results[0]['Team']\n",
        "            res_df['Time'] = results[0]['Time']\n",
        "            res_df['Year'] = year\n",
        "        except ElementDoesNotExist as e:\n",
        "            print(f\"That does not appear to be a valid results URL. {e}\")\n",
        "# Return the data\n",
        "    print(res_df.head(1))\n",
        "    res_df = fixtimes(res_df)\n",
        "    res_df['Speed'] = distance / res_df['Time'] * 3600\n",
        "    return res_df"
      ],
      "execution_count": 0,
      "outputs": []
    },
    {
      "cell_type": "code",
      "metadata": {
        "id": "YDytdIXsZkFW",
        "colab_type": "code",
        "colab": {}
      },
      "source": [
        "def fixtimes(df19):\n",
        "    df19 = df19.replace({'Time': {0: np.nan}}).ffill()\n",
        "    for index, row in df19.iterrows():\n",
        "        if ':' in row['Time']:\n",
        "            t = row['Time'].split(':')\n",
        "            if len(t) == 2:\n",
        "                h,m,s = [0, t[0], t[1]]\n",
        "                df19.loc[index, 'Time'] = int(datetime.timedelta(hours=int(h),minutes=int(m),seconds=int(s)).total_seconds())\n",
        "            else:\n",
        "                h,m,s = [t[0],t[1],t[2]]\n",
        "                df19.loc[index, 'Time'] = int(datetime.timedelta(hours=int(h),minutes=int(m),seconds=int(s)).total_seconds())\n",
        "        elif '-' in row['Time']:\n",
        "            df19.loc[index, 'Time'] = np.nan\n",
        "    wtime = df19['Time'][0]\n",
        "    for index, row in df19.iterrows():\n",
        "        if row['Time'] < wtime:\n",
        "            df19.loc[index, 'Time'] = row['Time'] + wtime\n",
        "    return df19"
      ],
      "execution_count": 0,
      "outputs": []
    },
    {
      "cell_type": "code",
      "metadata": {
        "id": "2R5YL-LKSAXl",
        "colab_type": "code",
        "colab": {}
      },
      "source": [
        "df_master = pd.DataFrame(columns=['Rank', 'Rider', 'Nation','Age','Team', 'Time','Year'])\n",
        "for url in url_list:\n",
        "    year = url.split('/')[-1]\n",
        "    df_temp = pcscrape(url)\n",
        "    df_temp.replace({'Time': {0: np.nan}}).ffill()\n",
        "    df_master = df_master.append(df_temp, ignore_index=True)\n"
      ],
      "execution_count": 0,
      "outputs": []
    },
    {
      "cell_type": "code",
      "metadata": {
        "id": "UZlXesQdZgOD",
        "colab_type": "code",
        "colab": {}
      },
      "source": [
        "# # Test\n",
        "# df19 = pcscrape('https://www.procyclingstats.com/race/race/gent-wevelgem/2019')\n",
        "# df19.head()"
      ],
      "execution_count": 0,
      "outputs": []
    },
    {
      "cell_type": "code",
      "metadata": {
        "id": "H1mOsxDAQwrj",
        "colab_type": "code",
        "colab": {}
      },
      "source": [
        "# Export all results data\n",
        "outfile = f'{race_name}_results.csv'\n",
        "with open(outfile, 'w') as file:\n",
        "    file.write(df_master.to_csv(header=True, index=False, encoding='UTF-8'))\n",
        "\n",
        "files.download(outfile)"
      ],
      "execution_count": 0,
      "outputs": []
    },
    {
      "cell_type": "code",
      "metadata": {
        "id": "BWKf20QqRGMm",
        "colab_type": "code",
        "colab": {}
      },
      "source": [
        "df_master.head(50)"
      ],
      "execution_count": 0,
      "outputs": []
    },
    {
      "cell_type": "code",
      "metadata": {
        "id": "nAxhaP1YK7g4",
        "colab_type": "code",
        "colab": {}
      },
      "source": [
        ""
      ],
      "execution_count": 0,
      "outputs": []
    }
  ]
}