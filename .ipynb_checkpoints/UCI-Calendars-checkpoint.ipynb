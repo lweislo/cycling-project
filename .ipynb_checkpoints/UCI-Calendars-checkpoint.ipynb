{
 "cells": [
  {
   "cell_type": "code",
   "execution_count": 185,
   "metadata": {},
   "outputs": [],
   "source": [
    "# This script examines the UCI sanctioned racing calendar to look at global changes in the number of events.\n",
    "# Source is https://www.uci.org/road/calendar, all categories/classes selected\n",
    "# Year could be extracted from the start date, but UCI 'seasons' differ from calendar years\n",
    "# for Africa, Asia and Oceania circuits, so when outputting new calendars, add the year as _2XXX before .xlsx\n",
    "# The script will add the year as a new column.\n",
    "%matplotlib inline"
   ]
  },
  {
   "cell_type": "code",
   "execution_count": 186,
   "metadata": {},
   "outputs": [],
   "source": [
    "import pandas as pd\n",
    "import glob\n",
    "import os\n",
    "import time\n",
    "from datetime import timedelta\n",
    "import matplotlib.pyplot as plt\n",
    "import numpy as np\n",
    "import seaborn as sns\n",
    "#Map the UCI Calendar excel output to the Continental circuits using the UCI's country names\n",
    "continents = {'Americas': ['ANTIGUA AND BARBUDA', 'ARGENTINA', 'ARUBA', 'BELIZE', 'BERMUDA', \n",
    "                           'BOLIVARIAN REPUBLIC OF VENEZUELA', 'BOLIVIA', 'BRAZIL', 'CANADA',\n",
    "                           'CHILE', 'COLOMBIA', 'CUBA', 'DOMINICAN REPUBLIC', 'ECUADOR', \n",
    "                           'EL SALVADOR', 'HONDURAS', 'PANAMA', 'PARAGUAY', 'PUERTO RICO', \n",
    "                           'SAINT VINCENT AND THE GRENADINES', 'TRINIDAD AND TOBAGO', \n",
    "                           'UNITED STATES OF AMERICA', 'URUGUAY','MEXICO', 'COSTA RICA','GUATEMALA'],\n",
    "              'Africas' : ['ALBANIA', 'ALGERIA', 'ANGOLA', 'CAMEROON', 'CONGO', 'COTE D\\'IVOIRE',\n",
    "                           'EGYPT', 'ETHIOPIA', 'GUYANA', 'LIBYA', 'MALI', 'MAURITIUS', 'MOROCCO',\n",
    "                           'NAMIBIA', 'RWANDA', 'SENEGAL', 'SOUTH AFRICA', 'SWAZILAND', 'TUNISIA', \n",
    "                           'UGANDA', 'ZIMBABWE', 'GABON','ERITREA', 'BURKINA FASO'],\n",
    "              'Asia' : ['AZERBAIJAN', 'BAHRAIN', 'BRUNEI DARUSSALAM', 'CHINESE TAIPEI', 'GEORGIA',\n",
    "                        'INDIA', 'ISLAMIC REPUBLIC OF IRAN', 'ISRAEL', 'KAZAKHSTAN', 'KOREA', 'KUWAIT', \n",
    "                        'KYRGYZSTAN', 'LEBANON', 'MALAYSIA', 'MONGOLIA', 'MYANMAR', 'OMAN','PAKISTAN', 'PHILIPPINES',\n",
    "                        'RUSSIAN FEDERATION', 'SINGAPORE', 'SRI LANKA', 'SYRIAN ARAB REPUBLIC', 'THAILAND',\n",
    "                        'TURKEY', 'UNITED ARAB EMIRATES', 'VIETNAM','HONG KONG, CHINA','QATAR', 'UZBEKISTAN',\n",
    "                        'INDONESIA', 'JAPAN','PEOPLE\\'S REPUBLIC OF CHINA'],\n",
    "              'Europe' : ['AUSTRIA', 'BELARUS', 'BELGIUM', 'BOSNIA AND HERZEGOVINA', 'BULGARIA', 'CROATIA',\n",
    "                          'CYPRUS', 'CZECH REPUBLIC', 'DENMARK', 'ESTONIA', 'FINLAND', \n",
    "                          'FORMER YUGOSLAV REPUBLIC OF MACEDONIA', 'FRANCE', 'GERMANY', 'GREAT BRITAIN', \n",
    "                          'GREECE', 'HUNGARY', 'ICELAND', 'IRELAND', 'ITALY', 'KOSOVO', 'LATVIA', 'LITHUANIA',\n",
    "                          'LUXEMBOURG', 'MONTENEGRO', 'NETHERLANDS', 'NORWAY', 'POLAND', 'PORTUGAL', \n",
    "                          'REPUBLIC OF MOLDOVA', 'ROMANIA', 'SAN MARINO', 'SERBIA', \n",
    "                          'SLOVAKIA', 'SLOVENIA', 'SWEDEN', 'SWITZERLAND', 'UKRAINE','SPAIN'],\n",
    "              'Oceania' : ['NEW ZEALAND','AUSTRALIA']}"
   ]
  },
  {
   "cell_type": "code",
   "execution_count": 187,
   "metadata": {},
   "outputs": [
    {
     "data": {
      "text/plain": [
       "9438"
      ]
     },
     "execution_count": 187,
     "metadata": {},
     "output_type": "execute_result"
    }
   ],
   "source": [
    "#Pull in every excel sheet from the current folder that starts with Calendar and ends in xlsx. YMMV!\n",
    "\n",
    "all_data = pd.DataFrame()\n",
    "for f in glob.glob('./data/Calendar*.xlsx'):\n",
    "    df = pd.read_excel(f, header=1, encoding='UTF-8')\n",
    "    year = os.path.basename(f).split('.')[0].split('_')[-1]\n",
    "    df['Season'] = year\n",
    "    all_data = all_data.append(df,ignore_index=True)\n",
    "    \n",
    "len(all_data)"
   ]
  },
  {
   "cell_type": "code",
   "execution_count": 188,
   "metadata": {
    "scrolled": false
   },
   "outputs": [
    {
     "data": {
      "text/html": [
       "<div>\n",
       "<style scoped>\n",
       "    .dataframe tbody tr th:only-of-type {\n",
       "        vertical-align: middle;\n",
       "    }\n",
       "\n",
       "    .dataframe tbody tr th {\n",
       "        vertical-align: top;\n",
       "    }\n",
       "\n",
       "    .dataframe thead th {\n",
       "        text-align: right;\n",
       "    }\n",
       "</style>\n",
       "<table border=\"1\" class=\"dataframe\">\n",
       "  <thead>\n",
       "    <tr style=\"text-align: right;\">\n",
       "      <th></th>\n",
       "      <th>Date From</th>\n",
       "      <th>Date To</th>\n",
       "      <th>Name</th>\n",
       "      <th>Country</th>\n",
       "      <th>Category</th>\n",
       "      <th>Class</th>\n",
       "      <th>Season</th>\n",
       "    </tr>\n",
       "  </thead>\n",
       "  <tbody>\n",
       "    <tr>\n",
       "      <th>0</th>\n",
       "      <td>24/10/2017</td>\n",
       "      <td>29/10/2017</td>\n",
       "      <td>Vuelta a Colombia Femenina Oro y Paz</td>\n",
       "      <td>COLOMBIA</td>\n",
       "      <td>WE</td>\n",
       "      <td>2.2</td>\n",
       "      <td>2018</td>\n",
       "    </tr>\n",
       "    <tr>\n",
       "      <th>1</th>\n",
       "      <td>23/10/2017</td>\n",
       "      <td>01/11/2017</td>\n",
       "      <td>Vuelta a Guatemala</td>\n",
       "      <td>GUATEMALA</td>\n",
       "      <td>ME</td>\n",
       "      <td>2.2</td>\n",
       "      <td>2018</td>\n",
       "    </tr>\n",
       "    <tr>\n",
       "      <th>2</th>\n",
       "      <td>04/11/2017</td>\n",
       "      <td>04/11/2017</td>\n",
       "      <td>Subaru Australian Open Criterium</td>\n",
       "      <td>AUSTRALIA</td>\n",
       "      <td>ME</td>\n",
       "      <td>CRT</td>\n",
       "      <td>2018</td>\n",
       "    </tr>\n",
       "    <tr>\n",
       "      <th>3</th>\n",
       "      <td>04/11/2017</td>\n",
       "      <td>04/11/2017</td>\n",
       "      <td>Le Tour De France Saitama Criterium</td>\n",
       "      <td>JAPAN</td>\n",
       "      <td>ME</td>\n",
       "      <td>CRT</td>\n",
       "      <td>2018</td>\n",
       "    </tr>\n",
       "    <tr>\n",
       "      <th>4</th>\n",
       "      <td>04/11/2017</td>\n",
       "      <td>04/11/2017</td>\n",
       "      <td>Subaru Australian Open Criterium</td>\n",
       "      <td>AUSTRALIA</td>\n",
       "      <td>WE</td>\n",
       "      <td>CRT</td>\n",
       "      <td>2018</td>\n",
       "    </tr>\n",
       "  </tbody>\n",
       "</table>\n",
       "</div>"
      ],
      "text/plain": [
       "    Date From     Date To                                  Name    Country  \\\n",
       "0  24/10/2017  29/10/2017  Vuelta a Colombia Femenina Oro y Paz   COLOMBIA   \n",
       "1  23/10/2017  01/11/2017                    Vuelta a Guatemala  GUATEMALA   \n",
       "2  04/11/2017  04/11/2017      Subaru Australian Open Criterium  AUSTRALIA   \n",
       "3  04/11/2017  04/11/2017   Le Tour De France Saitama Criterium      JAPAN   \n",
       "4  04/11/2017  04/11/2017      Subaru Australian Open Criterium  AUSTRALIA   \n",
       "\n",
       "  Category Class Season  \n",
       "0       WE   2.2   2018  \n",
       "1       ME   2.2   2018  \n",
       "2       ME   CRT   2018  \n",
       "3       ME   CRT   2018  \n",
       "4       WE   CRT   2018  "
      ]
     },
     "execution_count": 188,
     "metadata": {},
     "output_type": "execute_result"
    }
   ],
   "source": [
    "#Get rid of unwanted columns.\n",
    "all_data = all_data.drop(columns=['EMail', 'WebSite', 'Calendar','Venue'])\n",
    "all_data.head()"
   ]
  },
  {
   "cell_type": "code",
   "execution_count": 189,
   "metadata": {},
   "outputs": [
    {
     "data": {
      "text/plain": [
       "array(['WE', 'ME', nan, 'MU', 'MJ', 'WJ', 'WU'], dtype=object)"
      ]
     },
     "execution_count": 189,
     "metadata": {},
     "output_type": "execute_result"
    }
   ],
   "source": [
    "#Examine the head and length to make sure it's kosher\n",
    "# all_data['Class'].unique()\n",
    "# array(['2.2', 'CRT', '2.HC', '2.1', '1.2', '1.1', 'CN', '2.UWT', '1.UWT',\n",
    "#        '2.Ncup', '1.HC', 'CC', '1.WWT', '1.Ncup', '1.2U', '2.2U', 'JR',\n",
    "#        '2.WWT', 'JC', 'CM', 'JOJ', 'CDM', nan, 'JO', 'CPE', 'MNM', 'AU1',\n",
    "#        '2.CH', '1.CH', 'GT2', 'GT1'], dtype=object)\n",
    "all_data['Category'] = all_data['Category'].replace('MP', 'ME')\n",
    "all_data['Category'].unique()"
   ]
  },
  {
   "cell_type": "code",
   "execution_count": 190,
   "metadata": {},
   "outputs": [
    {
     "data": {
      "text/plain": [
       "317"
      ]
     },
     "execution_count": 190,
     "metadata": {},
     "output_type": "execute_result"
    }
   ],
   "source": [
    "# Championship races lack categories because they're usually combined all cats.\n",
    "len(all_data.loc[all_data['Category'].isna()])"
   ]
  },
  {
   "cell_type": "code",
   "execution_count": 191,
   "metadata": {},
   "outputs": [
    {
     "data": {
      "text/html": [
       "<div>\n",
       "<style scoped>\n",
       "    .dataframe tbody tr th:only-of-type {\n",
       "        vertical-align: middle;\n",
       "    }\n",
       "\n",
       "    .dataframe tbody tr th {\n",
       "        vertical-align: top;\n",
       "    }\n",
       "\n",
       "    .dataframe thead th {\n",
       "        text-align: right;\n",
       "    }\n",
       "</style>\n",
       "<table border=\"1\" class=\"dataframe\">\n",
       "  <thead>\n",
       "    <tr style=\"text-align: right;\">\n",
       "      <th></th>\n",
       "      <th>Date From</th>\n",
       "      <th>Date To</th>\n",
       "      <th>Name</th>\n",
       "      <th>Country</th>\n",
       "      <th>Category</th>\n",
       "      <th>Class</th>\n",
       "      <th>Season</th>\n",
       "    </tr>\n",
       "  </thead>\n",
       "  <tbody>\n",
       "    <tr>\n",
       "      <th>2128</th>\n",
       "      <td>21/11/2018</td>\n",
       "      <td>25/11/2018</td>\n",
       "      <td>Africa Cup</td>\n",
       "      <td>ERITREA</td>\n",
       "      <td>WE</td>\n",
       "      <td>NaN</td>\n",
       "      <td>2019</td>\n",
       "    </tr>\n",
       "    <tr>\n",
       "      <th>2129</th>\n",
       "      <td>21/11/2018</td>\n",
       "      <td>25/11/2018</td>\n",
       "      <td>Africa Cup</td>\n",
       "      <td>ERITREA</td>\n",
       "      <td>ME</td>\n",
       "      <td>NaN</td>\n",
       "      <td>2019</td>\n",
       "    </tr>\n",
       "  </tbody>\n",
       "</table>\n",
       "</div>"
      ],
      "text/plain": [
       "       Date From     Date To        Name  Country Category Class Season\n",
       "2128  21/11/2018  25/11/2018  Africa Cup  ERITREA       WE   NaN   2019\n",
       "2129  21/11/2018  25/11/2018  Africa Cup  ERITREA       ME   NaN   2019"
      ]
     },
     "execution_count": 191,
     "metadata": {},
     "output_type": "execute_result"
    }
   ],
   "source": [
    "# The championships, Olympics, Criteriums (some) lack a category and can be eliminated assuming they're equal ME/WE\n",
    "noc_data = all_data.loc[all_data['Category'].notnull()]\n",
    "noc_data.loc[noc_data['Class'].isna()]\n",
    "# There are still two races without Class, we can drop"
   ]
  },
  {
   "cell_type": "code",
   "execution_count": 192,
   "metadata": {},
   "outputs": [
    {
     "data": {
      "text/plain": [
       "(9119, 7)"
      ]
     },
     "execution_count": 192,
     "metadata": {},
     "output_type": "execute_result"
    }
   ],
   "source": [
    "noc_data = noc_data.loc[noc_data['Class'].notnull()]\n",
    "noc_data.shape"
   ]
  },
  {
   "cell_type": "code",
   "execution_count": 193,
   "metadata": {},
   "outputs": [],
   "source": [
    "# I suspect there are some classes have changed over the years. MP is ME, CPE was WT stage races during dispute\n",
    "# with ASO (2.UWT), MNM = Monument and CPE were WT one-days during disputed years (1.UWT) \n",
    "# Reassign them to current codes. This may not be necessary in the future.\n",
    "class_dict = {'CPE':'2.UWT',\n",
    "              'MNM':'1.UWT',\n",
    "              'AU1':'1.UWT',\n",
    "              '2.CH':'2.UWT',\n",
    "              '1.CH':'1.UWT',\n",
    "              'GT2':'2.UWT',\n",
    "              'GT1':'2.UWT',\n",
    "              '2.2':'2.2','CRT':'CRT','2.HC':'2.HC','2.1':'2.1','1.2':'1.2','1.1':'1.1',\n",
    "              'CN':'CN','2.UWT':'2.UWT','1.UWT':'1.UWT','2.Ncup':'2.Ncup','1.HC':'1.HC','CC':'CC',\n",
    "              '1.WWT':'1.WWT','1.Ncup':'1.Ncup','1.2U':'1.2U','2.2U':'2.2U','JR':'JR','2.WWT':'2.WWT',\n",
    "              'JC':'JC','CM':'CM','JOJ':'JOJ','CDM':'CDM','JO':'JO'}\n",
    "\n",
    "noc_data['Class'] = noc_data['Class'].map(class_dict.get)"
   ]
  },
  {
   "cell_type": "code",
   "execution_count": 194,
   "metadata": {},
   "outputs": [
    {
     "data": {
      "text/plain": [
       "array(['2.2', 'CRT', '2.HC', '2.1', '1.2', '1.1', '2.UWT', '1.UWT',\n",
       "       '2.Ncup', '1.HC', '1.WWT', '1.Ncup', '1.2U', '2.2U', '2.WWT', 'CN',\n",
       "       'CC', 'JR', 'CDM', 'JOJ', 'CM', 'JO'], dtype=object)"
      ]
     },
     "execution_count": 194,
     "metadata": {},
     "output_type": "execute_result"
    }
   ],
   "source": [
    "noc_data['Class'].unique()"
   ]
  },
  {
   "cell_type": "code",
   "execution_count": 195,
   "metadata": {},
   "outputs": [
    {
     "data": {
      "text/html": [
       "<div>\n",
       "<style scoped>\n",
       "    .dataframe tbody tr th:only-of-type {\n",
       "        vertical-align: middle;\n",
       "    }\n",
       "\n",
       "    .dataframe tbody tr th {\n",
       "        vertical-align: top;\n",
       "    }\n",
       "\n",
       "    .dataframe thead th {\n",
       "        text-align: right;\n",
       "    }\n",
       "</style>\n",
       "<table border=\"1\" class=\"dataframe\">\n",
       "  <thead>\n",
       "    <tr style=\"text-align: right;\">\n",
       "      <th></th>\n",
       "      <th>Date From</th>\n",
       "      <th>Date To</th>\n",
       "      <th>Name</th>\n",
       "      <th>Country</th>\n",
       "      <th>Category</th>\n",
       "      <th>Class</th>\n",
       "      <th>Season</th>\n",
       "    </tr>\n",
       "  </thead>\n",
       "  <tbody>\n",
       "    <tr>\n",
       "      <th>6125</th>\n",
       "      <td>27/04/2006</td>\n",
       "      <td>27/04/2006</td>\n",
       "      <td>Trofej Sajamskih Gradova</td>\n",
       "      <td>NaN</td>\n",
       "      <td>MJ</td>\n",
       "      <td>1.1</td>\n",
       "      <td>2006</td>\n",
       "    </tr>\n",
       "    <tr>\n",
       "      <th>6165</th>\n",
       "      <td>12/05/2006</td>\n",
       "      <td>12/05/2006</td>\n",
       "      <td>Trofej Sajamskih Gradova</td>\n",
       "      <td>NaN</td>\n",
       "      <td>MJ</td>\n",
       "      <td>1.1</td>\n",
       "      <td>2006</td>\n",
       "    </tr>\n",
       "  </tbody>\n",
       "</table>\n",
       "</div>"
      ],
      "text/plain": [
       "       Date From     Date To                      Name Country Category Class  \\\n",
       "6125  27/04/2006  27/04/2006  Trofej Sajamskih Gradova     NaN       MJ   1.1   \n",
       "6165  12/05/2006  12/05/2006  Trofej Sajamskih Gradova     NaN       MJ   1.1   \n",
       "\n",
       "     Season  \n",
       "6125   2006  \n",
       "6165   2006  "
      ]
     },
     "execution_count": 195,
     "metadata": {},
     "output_type": "execute_result"
    }
   ],
   "source": [
    "noc_data.loc[noc_data['Country'].isna()]"
   ]
  },
  {
   "cell_type": "code",
   "execution_count": 196,
   "metadata": {},
   "outputs": [
    {
     "data": {
      "text/plain": [
       "(7050, 7)"
      ]
     },
     "execution_count": 196,
     "metadata": {},
     "output_type": "execute_result"
    }
   ],
   "source": [
    "drop_class = ['JO','JOJ','CC','JR','CDM','CN','CRT']\n",
    "\n",
    "keep_class = ['2.2',  '2.HC', '2.1', '1.2', '1.1', '2.UWT', '1.UWT', \n",
    "              '2.Ncup', '1.HC', '1.WWT', '1.Ncup', '1.2U', '2.2U', '2.WWT']\n",
    "\n",
    "non_champs = noc_data.loc[noc_data['Class'].isin(keep_class)]\n",
    "champs = all_data.loc[all_data['Class'].isin(drop_class)]\n",
    "non_champs.shape"
   ]
  },
  {
   "cell_type": "code",
   "execution_count": 197,
   "metadata": {},
   "outputs": [
    {
     "data": {
      "text/plain": [
       "array(['CRT', 'CN', 'CC', 'JR', 'JOJ', 'CDM', 'JO'], dtype=object)"
      ]
     },
     "execution_count": 197,
     "metadata": {},
     "output_type": "execute_result"
    }
   ],
   "source": [
    "champs['Class'].unique()\n",
    "# These are the races we won't consider further for now."
   ]
  },
  {
   "cell_type": "code",
   "execution_count": 198,
   "metadata": {
    "scrolled": true
   },
   "outputs": [
    {
     "data": {
      "text/html": [
       "<div>\n",
       "<style scoped>\n",
       "    .dataframe tbody tr th:only-of-type {\n",
       "        vertical-align: middle;\n",
       "    }\n",
       "\n",
       "    .dataframe tbody tr th {\n",
       "        vertical-align: top;\n",
       "    }\n",
       "\n",
       "    .dataframe thead th {\n",
       "        text-align: right;\n",
       "    }\n",
       "</style>\n",
       "<table border=\"1\" class=\"dataframe\">\n",
       "  <thead>\n",
       "    <tr style=\"text-align: right;\">\n",
       "      <th></th>\n",
       "      <th>Start_date</th>\n",
       "      <th>End_Date</th>\n",
       "      <th>Name</th>\n",
       "      <th>Country</th>\n",
       "      <th>Category</th>\n",
       "      <th>Class</th>\n",
       "      <th>Season</th>\n",
       "    </tr>\n",
       "  </thead>\n",
       "  <tbody>\n",
       "    <tr>\n",
       "      <th>0</th>\n",
       "      <td>2017-10-24</td>\n",
       "      <td>2017-10-29</td>\n",
       "      <td>Vuelta a Colombia Femenina Oro y Paz</td>\n",
       "      <td>COLOMBIA</td>\n",
       "      <td>WE</td>\n",
       "      <td>2.2</td>\n",
       "      <td>2018</td>\n",
       "    </tr>\n",
       "    <tr>\n",
       "      <th>1</th>\n",
       "      <td>2017-10-23</td>\n",
       "      <td>2017-11-01</td>\n",
       "      <td>Vuelta a Guatemala</td>\n",
       "      <td>GUATEMALA</td>\n",
       "      <td>ME</td>\n",
       "      <td>2.2</td>\n",
       "      <td>2018</td>\n",
       "    </tr>\n",
       "    <tr>\n",
       "      <th>5</th>\n",
       "      <td>2017-10-27</td>\n",
       "      <td>2017-11-05</td>\n",
       "      <td>Tour du Faso</td>\n",
       "      <td>BURKINA FASO</td>\n",
       "      <td>ME</td>\n",
       "      <td>2.2</td>\n",
       "      <td>2018</td>\n",
       "    </tr>\n",
       "    <tr>\n",
       "      <th>6</th>\n",
       "      <td>2017-10-27</td>\n",
       "      <td>2017-11-05</td>\n",
       "      <td>Vuelta Ciclista a Venezuela</td>\n",
       "      <td>BOLIVARIAN REPUBLIC OF VENEZUELA</td>\n",
       "      <td>ME</td>\n",
       "      <td>2.2</td>\n",
       "      <td>2018</td>\n",
       "    </tr>\n",
       "    <tr>\n",
       "      <th>7</th>\n",
       "      <td>2017-10-28</td>\n",
       "      <td>2017-11-05</td>\n",
       "      <td>Tour of Hainan</td>\n",
       "      <td>PEOPLE'S REPUBLIC OF CHINA</td>\n",
       "      <td>ME</td>\n",
       "      <td>2.HC</td>\n",
       "      <td>2018</td>\n",
       "    </tr>\n",
       "  </tbody>\n",
       "</table>\n",
       "</div>"
      ],
      "text/plain": [
       "  Start_date   End_Date                                  Name  \\\n",
       "0 2017-10-24 2017-10-29  Vuelta a Colombia Femenina Oro y Paz   \n",
       "1 2017-10-23 2017-11-01                    Vuelta a Guatemala   \n",
       "5 2017-10-27 2017-11-05                          Tour du Faso   \n",
       "6 2017-10-27 2017-11-05           Vuelta Ciclista a Venezuela   \n",
       "7 2017-10-28 2017-11-05                        Tour of Hainan   \n",
       "\n",
       "                            Country Category Class Season  \n",
       "0                          COLOMBIA       WE   2.2   2018  \n",
       "1                         GUATEMALA       ME   2.2   2018  \n",
       "5                      BURKINA FASO       ME   2.2   2018  \n",
       "6  BOLIVARIAN REPUBLIC OF VENEZUELA       ME   2.2   2018  \n",
       "7        PEOPLE'S REPUBLIC OF CHINA       ME  2.HC   2018  "
      ]
     },
     "execution_count": 198,
     "metadata": {},
     "output_type": "execute_result"
    }
   ],
   "source": [
    "#Need to rename the columns so they make sense and format the dates as dates\n",
    "non_champs = non_champs.rename(columns={'Date From':'Start_date', 'Date To':'End_Date'})\n",
    "non_champs['Start_date'] = pd.to_datetime(non_champs['Start_date'], dayfirst=True)\n",
    "non_champs['End_Date'] = pd.to_datetime(non_champs['End_Date'], dayfirst=True)\n",
    "non_champs.head()"
   ]
  },
  {
   "cell_type": "code",
   "execution_count": 199,
   "metadata": {},
   "outputs": [
    {
     "data": {
      "text/html": [
       "<div>\n",
       "<style scoped>\n",
       "    .dataframe tbody tr th:only-of-type {\n",
       "        vertical-align: middle;\n",
       "    }\n",
       "\n",
       "    .dataframe tbody tr th {\n",
       "        vertical-align: top;\n",
       "    }\n",
       "\n",
       "    .dataframe thead th {\n",
       "        text-align: right;\n",
       "    }\n",
       "</style>\n",
       "<table border=\"1\" class=\"dataframe\">\n",
       "  <thead>\n",
       "    <tr style=\"text-align: right;\">\n",
       "      <th></th>\n",
       "      <th>Start_date</th>\n",
       "      <th>End_Date</th>\n",
       "      <th>Name</th>\n",
       "      <th>Country</th>\n",
       "      <th>Category</th>\n",
       "      <th>Class</th>\n",
       "      <th>Season</th>\n",
       "      <th>Race_Days</th>\n",
       "    </tr>\n",
       "  </thead>\n",
       "  <tbody>\n",
       "    <tr>\n",
       "      <th>0</th>\n",
       "      <td>2017-10-24</td>\n",
       "      <td>2017-10-29</td>\n",
       "      <td>Vuelta a Colombia Femenina Oro y Paz</td>\n",
       "      <td>COLOMBIA</td>\n",
       "      <td>WE</td>\n",
       "      <td>2.2</td>\n",
       "      <td>2018</td>\n",
       "      <td>6 days</td>\n",
       "    </tr>\n",
       "    <tr>\n",
       "      <th>1</th>\n",
       "      <td>2017-10-23</td>\n",
       "      <td>2017-11-01</td>\n",
       "      <td>Vuelta a Guatemala</td>\n",
       "      <td>GUATEMALA</td>\n",
       "      <td>ME</td>\n",
       "      <td>2.2</td>\n",
       "      <td>2018</td>\n",
       "      <td>10 days</td>\n",
       "    </tr>\n",
       "    <tr>\n",
       "      <th>5</th>\n",
       "      <td>2017-10-27</td>\n",
       "      <td>2017-11-05</td>\n",
       "      <td>Tour du Faso</td>\n",
       "      <td>BURKINA FASO</td>\n",
       "      <td>ME</td>\n",
       "      <td>2.2</td>\n",
       "      <td>2018</td>\n",
       "      <td>10 days</td>\n",
       "    </tr>\n",
       "    <tr>\n",
       "      <th>6</th>\n",
       "      <td>2017-10-27</td>\n",
       "      <td>2017-11-05</td>\n",
       "      <td>Vuelta Ciclista a Venezuela</td>\n",
       "      <td>BOLIVARIAN REPUBLIC OF VENEZUELA</td>\n",
       "      <td>ME</td>\n",
       "      <td>2.2</td>\n",
       "      <td>2018</td>\n",
       "      <td>10 days</td>\n",
       "    </tr>\n",
       "    <tr>\n",
       "      <th>7</th>\n",
       "      <td>2017-10-28</td>\n",
       "      <td>2017-11-05</td>\n",
       "      <td>Tour of Hainan</td>\n",
       "      <td>PEOPLE'S REPUBLIC OF CHINA</td>\n",
       "      <td>ME</td>\n",
       "      <td>2.HC</td>\n",
       "      <td>2018</td>\n",
       "      <td>9 days</td>\n",
       "    </tr>\n",
       "  </tbody>\n",
       "</table>\n",
       "</div>"
      ],
      "text/plain": [
       "  Start_date   End_Date                                  Name  \\\n",
       "0 2017-10-24 2017-10-29  Vuelta a Colombia Femenina Oro y Paz   \n",
       "1 2017-10-23 2017-11-01                    Vuelta a Guatemala   \n",
       "5 2017-10-27 2017-11-05                          Tour du Faso   \n",
       "6 2017-10-27 2017-11-05           Vuelta Ciclista a Venezuela   \n",
       "7 2017-10-28 2017-11-05                        Tour of Hainan   \n",
       "\n",
       "                            Country Category Class Season Race_Days  \n",
       "0                          COLOMBIA       WE   2.2   2018    6 days  \n",
       "1                         GUATEMALA       ME   2.2   2018   10 days  \n",
       "5                      BURKINA FASO       ME   2.2   2018   10 days  \n",
       "6  BOLIVARIAN REPUBLIC OF VENEZUELA       ME   2.2   2018   10 days  \n",
       "7        PEOPLE'S REPUBLIC OF CHINA       ME  2.HC   2018    9 days  "
      ]
     },
     "execution_count": 199,
     "metadata": {},
     "output_type": "execute_result"
    }
   ],
   "source": [
    "#Adding in a column for the length of the race in days\n",
    "non_champs['Race_Days'] = ((non_champs['End_Date'] + pd.DateOffset(days=1)) - non_champs['Start_date'])\n",
    "non_champs.head()\n"
   ]
  },
  {
   "cell_type": "code",
   "execution_count": 200,
   "metadata": {},
   "outputs": [
    {
     "data": {
      "text/plain": [
       "array(['COLOMBIA', 'GUATEMALA', 'BURKINA FASO',\n",
       "       'BOLIVARIAN REPUBLIC OF VENEZUELA', \"PEOPLE'S REPUBLIC OF CHINA\",\n",
       "       'JAPAN', 'RWANDA', 'SOUTH AFRICA', 'INDONESIA', 'COSTA RICA',\n",
       "       'AUSTRALIA', 'GABON', 'NEW ZEALAND', 'SPAIN',\n",
       "       'UNITED ARAB EMIRATES', 'ARGENTINA', 'FRANCE', 'ALGERIA',\n",
       "       'CAMEROON', 'TURKEY', 'ITALY', 'OMAN', 'PORTUGAL', 'CROATIA',\n",
       "       'BELGIUM', 'SLOVENIA', 'GREECE', 'NETHERLANDS', 'CHINESE TAIPEI',\n",
       "       'TUNISIA', 'MALAYSIA', 'SLOVAKIA', 'URUGUAY', 'LUXEMBOURG',\n",
       "       'THAILAND', 'GERMANY', 'MOROCCO', 'UNITED STATES OF AMERICA',\n",
       "       'CZECH REPUBLIC', 'POLAND', 'GREAT BRITAIN', 'DENMARK', 'SENEGAL',\n",
       "       'SWITZERLAND', 'BOSNIA AND HERZEGOVINA', 'NORWAY',\n",
       "       'RUSSIAN FEDERATION', 'SRI LANKA', 'BULGARIA', 'SWEDEN', 'HUNGARY',\n",
       "       'ALBANIA', 'PHILIPPINES', 'ESTONIA', 'IRELAND', 'UKRAINE', 'KOREA',\n",
       "       'ROMANIA', 'CANADA', 'SERBIA', 'AUSTRIA', 'BELARUS',\n",
       "       \"COTE D'IVOIRE\", 'KAZAKHSTAN', 'ISLAMIC REPUBLIC OF IRAN',\n",
       "       'HONG KONG, CHINA', 'TRINIDAD AND TOBAGO', 'BOLIVIA', 'QATAR',\n",
       "       'INDIA', 'BRAZIL', 'DOMINICAN REPUBLIC', 'EL SALVADOR', 'MEXICO',\n",
       "       'AZERBAIJAN', 'EGYPT', 'ISRAEL', 'CHILE', 'CYPRUS', 'KOSOVO',\n",
       "       'ECUADOR', 'PAKISTAN', 'LATVIA', 'ERITREA', 'SYRIAN ARAB REPUBLIC',\n",
       "       'BRUNEI DARUSSALAM', 'CUBA', 'BELIZE', 'LIBYA', 'MONTENEGRO',\n",
       "       'VIETNAM', 'MALI', 'PUERTO RICO',\n",
       "       'FORMER YUGOSLAV REPUBLIC OF MACEDONIA', nan, 'SAN MARINO',\n",
       "       'PARAGUAY', 'FINLAND', 'LITHUANIA', 'ETHIOPIA'], dtype=object)"
      ]
     },
     "execution_count": 200,
     "metadata": {},
     "output_type": "execute_result"
    }
   ],
   "source": [
    "# ENECO TOUR is 'stateless' because it crosses boundaries. We can add it to belgium.\n",
    "non_champs['Country'].replace({'STATELESS':'BELGIUM'}, inplace=True)\n",
    "non_champs['Country'].unique()"
   ]
  },
  {
   "cell_type": "code",
   "execution_count": 201,
   "metadata": {},
   "outputs": [
    {
     "data": {
      "text/html": [
       "<div>\n",
       "<style scoped>\n",
       "    .dataframe tbody tr th:only-of-type {\n",
       "        vertical-align: middle;\n",
       "    }\n",
       "\n",
       "    .dataframe tbody tr th {\n",
       "        vertical-align: top;\n",
       "    }\n",
       "\n",
       "    .dataframe thead th {\n",
       "        text-align: right;\n",
       "    }\n",
       "</style>\n",
       "<table border=\"1\" class=\"dataframe\">\n",
       "  <thead>\n",
       "    <tr style=\"text-align: right;\">\n",
       "      <th></th>\n",
       "      <th>Start_date</th>\n",
       "      <th>End_Date</th>\n",
       "      <th>Name</th>\n",
       "      <th>Country</th>\n",
       "      <th>Category</th>\n",
       "      <th>Class</th>\n",
       "      <th>Season</th>\n",
       "      <th>Race_Days</th>\n",
       "      <th>uci_name</th>\n",
       "      <th>continent</th>\n",
       "      <th>name</th>\n",
       "      <th>country</th>\n",
       "      <th>latitude</th>\n",
       "      <th>longitude</th>\n",
       "    </tr>\n",
       "  </thead>\n",
       "  <tbody>\n",
       "    <tr>\n",
       "      <th>4690</th>\n",
       "      <td>2006-04-27</td>\n",
       "      <td>2006-04-27</td>\n",
       "      <td>Trofej Sajamskih Gradova</td>\n",
       "      <td>NaN</td>\n",
       "      <td>MJ</td>\n",
       "      <td>1.1</td>\n",
       "      <td>2006</td>\n",
       "      <td>1 days</td>\n",
       "      <td>NaN</td>\n",
       "      <td>NaN</td>\n",
       "      <td>NaN</td>\n",
       "      <td>NaN</td>\n",
       "      <td>NaN</td>\n",
       "      <td>NaN</td>\n",
       "    </tr>\n",
       "    <tr>\n",
       "      <th>4729</th>\n",
       "      <td>2006-05-12</td>\n",
       "      <td>2006-05-12</td>\n",
       "      <td>Trofej Sajamskih Gradova</td>\n",
       "      <td>NaN</td>\n",
       "      <td>MJ</td>\n",
       "      <td>1.1</td>\n",
       "      <td>2006</td>\n",
       "      <td>1 days</td>\n",
       "      <td>NaN</td>\n",
       "      <td>NaN</td>\n",
       "      <td>NaN</td>\n",
       "      <td>NaN</td>\n",
       "      <td>NaN</td>\n",
       "      <td>NaN</td>\n",
       "    </tr>\n",
       "  </tbody>\n",
       "</table>\n",
       "</div>"
      ],
      "text/plain": [
       "     Start_date   End_Date                      Name Country Category Class  \\\n",
       "4690 2006-04-27 2006-04-27  Trofej Sajamskih Gradova     NaN       MJ   1.1   \n",
       "4729 2006-05-12 2006-05-12  Trofej Sajamskih Gradova     NaN       MJ   1.1   \n",
       "\n",
       "     Season Race_Days uci_name continent name country  latitude  longitude  \n",
       "4690   2006    1 days      NaN       NaN  NaN     NaN       NaN        NaN  \n",
       "4729   2006    1 days      NaN       NaN  NaN     NaN       NaN        NaN  "
      ]
     },
     "execution_count": 201,
     "metadata": {},
     "output_type": "execute_result"
    }
   ],
   "source": [
    "#add in the coordinates for each race so we can geolocate them on a map later\n",
    "\n",
    "uci_country_coord = pd.DataFrame()\n",
    "uci_country_coord = pd.read_excel('./data/uci_country_coord.xlsx', encoding='UTF-8')\n",
    "uci_df = pd.merge(non_champs, uci_country_coord, right_on='uci_name', left_on='Country', how=\"left\")\n",
    "#Find which ones don't have coordinates...\n",
    "df_nulls = uci_df[uci_df.isnull().any(axis=1)]\n",
    "# loc_nulls = df_nulls.groupby('Country')\n",
    "# loc_nulls['Country'].value_counts()\n",
    "df_nulls"
   ]
  },
  {
   "cell_type": "code",
   "execution_count": 202,
   "metadata": {},
   "outputs": [
    {
     "data": {
      "text/plain": [
       "(7050, 14)"
      ]
     },
     "execution_count": 202,
     "metadata": {},
     "output_type": "execute_result"
    }
   ],
   "source": [
    "uci_df.shape\n"
   ]
  },
  {
   "cell_type": "code",
   "execution_count": 203,
   "metadata": {},
   "outputs": [],
   "source": [
    "#You can extract the year from the start date, but UCI 'seasons' differ from calendar years\n",
    "# for Africa, Asia and Oceania circuits, so when outputting new calendars, add the year as _2XXX before .xlsx\n",
    "# If you want you can just export the combined data\n",
    "\n",
    "# all_data['Year'] = pd.DatetimeIndex(all_data['Date From']).year\n",
    "\n",
    "# writer = pd.ExcelWriter('combined.xlsx')\n",
    "# all_data.to_excel(writer,'Sheet1')\n",
    "\n",
    "# writer.save()"
   ]
  },
  {
   "cell_type": "code",
   "execution_count": 204,
   "metadata": {
    "scrolled": true
   },
   "outputs": [],
   "source": [
    "#We need to make the dictionary of lists one big dictionary to add the Continents column\n",
    "\n",
    "cont_dict_converted = {k: oldk for oldk, oldv in continents.items() for k in oldv}\n",
    "\n",
    "#Note there are some events that cross borders or Continental championships that have no Continent.\n",
    "#Add some code here to handle these cases.\n",
    "\n",
    "uci_df['Continent'] = uci_df['Country'].map(cont_dict_converted).fillna('Stateless')\n"
   ]
  },
  {
   "cell_type": "code",
   "execution_count": 205,
   "metadata": {},
   "outputs": [],
   "source": [
    "# Get rid of the one Junior race that was in Serbia but lacked a country\n",
    "uci_df = uci_df.loc[uci_df['Continent']!='Stateless']"
   ]
  },
  {
   "cell_type": "code",
   "execution_count": 206,
   "metadata": {
    "scrolled": true
   },
   "outputs": [],
   "source": [
    "# #Let's focus for now on the elite men and women's caregories in non-championship races\n",
    "\n",
    "# cats = ['ME', 'WE']\n",
    "# non_championships_df.Category.isin(cats)\n",
    "# elite_non_championships = non_championships_df[non_championships_df.Category.isin(cats)]\n",
    "# # group_cont = elite_non_championships.groupby(\"Continent\")\n",
    "# # group_cont.count().head()\n",
    "\n",
    "# elite_non_championships.head()"
   ]
  },
  {
   "cell_type": "code",
   "execution_count": 207,
   "metadata": {},
   "outputs": [
    {
     "data": {
      "text/plain": [
       "7048"
      ]
     },
     "execution_count": 207,
     "metadata": {},
     "output_type": "execute_result"
    }
   ],
   "source": [
    "#Convert the race days column to integer\n",
    "uci_df['Race_Days'] = uci_df['Race_Days']/np.timedelta64(1, 'D')\n",
    "uci_df.head()\n",
    "len(uci_df)"
   ]
  },
  {
   "cell_type": "code",
   "execution_count": 208,
   "metadata": {},
   "outputs": [],
   "source": [
    "uci_df.to_csv('./data/cleaned_uci_data_06_19.csv', header=True, encoding='UTF-8')"
   ]
  },
  {
   "cell_type": "code",
   "execution_count": null,
   "metadata": {},
   "outputs": [],
   "source": []
  }
 ],
 "metadata": {
  "kernelspec": {
   "display_name": "Python 3",
   "language": "python",
   "name": "python3"
  },
  "language_info": {
   "codemirror_mode": {
    "name": "ipython",
    "version": 3
   },
   "file_extension": ".py",
   "mimetype": "text/x-python",
   "name": "python",
   "nbconvert_exporter": "python",
   "pygments_lexer": "ipython3",
   "version": "3.7.0"
  }
 },
 "nbformat": 4,
 "nbformat_minor": 2
}
