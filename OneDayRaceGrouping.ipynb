{
  "nbformat": 4,
  "nbformat_minor": 0,
  "metadata": {
    "colab": {
      "name": "OneDayRaceGrouping.ipynb",
      "provenance": [],
      "private_outputs": true,
      "collapsed_sections": [],
      "authorship_tag": "ABX9TyNmK+kRcjcnhYgcrzjZGIRy",
      "include_colab_link": true
    },
    "kernelspec": {
      "name": "python3",
      "display_name": "Python 3"
    }
  },
  "cells": [
    {
      "cell_type": "markdown",
      "metadata": {
        "id": "view-in-github",
        "colab_type": "text"
      },
      "source": [
        "<a href=\"https://colab.research.google.com/github/lweislo/cycling-project/blob/master/OneDayRaceGrouping.ipynb\" target=\"_parent\"><img src=\"https://colab.research.google.com/assets/colab-badge.svg\" alt=\"Open In Colab\"/></a>"
      ]
    },
    {
      "cell_type": "code",
      "metadata": {
        "id": "QZ1asBXFjV2o",
        "colab_type": "code",
        "colab": {}
      },
      "source": [
        "import pandas as pd\n",
        "import numpy as np\n",
        "from google.colab import files"
      ],
      "execution_count": 0,
      "outputs": []
    },
    {
      "cell_type": "code",
      "metadata": {
        "id": "M247fOUkjdYF",
        "colab_type": "code",
        "colab": {}
      },
      "source": [
        "uploaded = files.upload()\n",
        "for fn in uploaded.keys():\n",
        "    print('User uploaded file \"{name}\"'.format(\n",
        "        name=fn, length=len(uploaded[fn])))\n"
      ],
      "execution_count": 0,
      "outputs": []
    },
    {
      "cell_type": "code",
      "metadata": {
        "id": "ZilPE9l2jxhw",
        "colab_type": "code",
        "colab": {}
      },
      "source": [
        "for item in uploaded:\n",
        "    df = pd.read_csv(item, encoding='UTF-8')\n"
      ],
      "execution_count": 0,
      "outputs": []
    },
    {
      "cell_type": "code",
      "metadata": {
        "id": "1D9IcBBbj7Be",
        "colab_type": "code",
        "colab": {}
      },
      "source": [
        "# get rid of the DNFs\n",
        "df1 = df[~df['Rank'].isin(['DNF','DNS','OTL','NQ','DSQ'])]\n",
        "df1['Rank'].unique()"
      ],
      "execution_count": 0,
      "outputs": []
    },
    {
      "cell_type": "code",
      "metadata": {
        "id": "8fnY4pD8FNmu",
        "colab_type": "code",
        "colab": {}
      },
      "source": [
        "# Turn the ranking into an integer\n",
        "df1['Rank'] = pd.to_numeric(df1['Rank'])\n",
        "df1.dtypes"
      ],
      "execution_count": 0,
      "outputs": []
    },
    {
      "cell_type": "code",
      "metadata": {
        "id": "hsE91GJUxIt0",
        "colab_type": "code",
        "colab": {}
      },
      "source": [
        "# Most wins\n",
        "dfw = df1.loc[df1['Rank'] ==1]\n",
        "wins = dfw.groupby('Rider', as_index=True)['Rank'].count()\n",
        "wins.sort_values(ascending=False)"
      ],
      "execution_count": 0,
      "outputs": []
    },
    {
      "cell_type": "code",
      "metadata": {
        "id": "a6ek3sOEzAyH",
        "colab_type": "code",
        "colab": {}
      },
      "source": [
        "# Filter only for podium finishes\n",
        "dfp = df1.loc[df1['Rank']<4]\n",
        "dfpg = dfp.groupby(['Rider','Rank'], as_index=False)['Year'].count()\n",
        "# Generating top 10 a medal table\n",
        "medal_table = dfpg.pivot(index='Rider', columns='Rank')['Year']\n",
        "medal_table.reset_index(inplace=True)\n",
        "mt = medal_table.sort_values(by=[1,2,3], na_position=\"last\",ascending=False)[:10]\n",
        "mt"
      ],
      "execution_count": 0,
      "outputs": []
    },
    {
      "cell_type": "code",
      "metadata": {
        "id": "b-olP3rfF-l_",
        "colab_type": "code",
        "colab": {}
      },
      "source": [
        "# Get median ranking for riders who've been in top 20\n",
        "dfm = df1.groupby(['Rider'], as_index=False)['Rank'].median()\n",
        "dfm.dropna(how='all',inplace=True)\n",
        "dfm = dfm.loc[dfm['Rank']<21]\n",
        "dfm = dfm.sort_values(by='Rank', ascending=True).head(20)\n",
        "dfm.rename(columns={'Rank':'Median Rank'}, inplace=True)\n",
        "dfm.head(2)"
      ],
      "execution_count": 0,
      "outputs": []
    },
    {
      "cell_type": "code",
      "metadata": {
        "id": "Wg5jt9meoxQh",
        "colab_type": "code",
        "colab": {}
      },
      "source": [
        "# Get the top 10 most raced in the dataset\n",
        "dfg = df1.groupby(['Rider'], as_index=False)['Rank'].count()\n",
        "dfg.dropna(how='all',inplace=True)\n",
        "dfg = dfg.sort_values(by=['Rank'], ascending=False)\n",
        "dfg.rename(columns={'Rank':'Finishes'}, inplace=True)\n",
        "dfg.head(2)"
      ],
      "execution_count": 0,
      "outputs": []
    },
    {
      "cell_type": "code",
      "metadata": {
        "id": "T03YqkCkLfFu",
        "colab_type": "code",
        "colab": {}
      },
      "source": [
        "# Limit the group to riders who have finished at least three times\n",
        "dfgf = dfg.loc[dfg['Finishes']>2]\n",
        "dfgf.head(3)"
      ],
      "execution_count": 0,
      "outputs": []
    },
    {
      "cell_type": "code",
      "metadata": {
        "id": "mhF9u9N5kOP0",
        "colab_type": "code",
        "colab": {}
      },
      "source": [
        "# Merge the two on rider to create a most successful rider ranking\n",
        "df2 = dfgf.merge(dfm, how='inner', on='Rider')\n",
        "df2.sort_values(by=('Finishes'), ascending=False).sort_values(by=(['Median Rank']), ascending=True).head(10)"
      ],
      "execution_count": 0,
      "outputs": []
    },
    {
      "cell_type": "code",
      "metadata": {
        "id": "RuMZHQDNJGda",
        "colab_type": "code",
        "colab": {}
      },
      "source": [
        "# List of all winners in dataset\n",
        "dfw.sort_values('Year',ascending=False)"
      ],
      "execution_count": 0,
      "outputs": []
    },
    {
      "cell_type": "code",
      "metadata": {
        "id": "eXOp1TTTSs0o",
        "colab_type": "code",
        "colab": {}
      },
      "source": [
        "# output = df1.to_excel('E3_results_noDNF.xlsx', index=False)\n",
        "# files.download('E3_results_noDNF.xlsx')"
      ],
      "execution_count": 0,
      "outputs": []
    },
    {
      "cell_type": "code",
      "metadata": {
        "id": "rF83CdUnV5lf",
        "colab_type": "code",
        "colab": {}
      },
      "source": [
        "# Most top 10s without win\n",
        "top10 = np.arange(2,11)\n",
        "df3 = df1.loc[df1['Rank'].isin(top10)]\n",
        "df3g = df3.groupby('Rider', as_index=False)['Rank'].count()\n",
        "unluckiest = df3g.sort_values('Rank',ascending=False)"
      ],
      "execution_count": 0,
      "outputs": []
    },
    {
      "cell_type": "code",
      "metadata": {
        "id": "1gmTkAFCgQkY",
        "colab_type": "code",
        "colab": {}
      },
      "source": [
        "# Top 10 unluckiest riders - top 10s without wins\n",
        "unluckiest[:10]"
      ],
      "execution_count": 0,
      "outputs": []
    },
    {
      "cell_type": "code",
      "metadata": {
        "id": "yeB5YdjBgzSW",
        "colab_type": "code",
        "colab": {}
      },
      "source": [
        "# Youngest winner\n",
        "dfw.sort_values(by='Age')[:1]"
      ],
      "execution_count": 0,
      "outputs": []
    },
    {
      "cell_type": "code",
      "metadata": {
        "id": "gHJcn8fRA_Yg",
        "colab_type": "code",
        "colab": {}
      },
      "source": [
        "# Oldest winner\n",
        "dfw.sort_values(by='Age',ascending=False)[:1]"
      ],
      "execution_count": 0,
      "outputs": []
    },
    {
      "cell_type": "code",
      "metadata": {
        "id": "A5W9DW1KBRo4",
        "colab_type": "code",
        "colab": {}
      },
      "source": [
        "# Fastest edition\n",
        "dfw.sort_values(by='Speed',ascending=False)[:1]"
      ],
      "execution_count": 0,
      "outputs": []
    },
    {
      "cell_type": "code",
      "metadata": {
        "id": "fjLxYA3BB2vC",
        "colab_type": "code",
        "colab": {}
      },
      "source": [
        "# Slowest edition\n",
        "dfw.sort_values(by='Speed',ascending=True)[:1]"
      ],
      "execution_count": 0,
      "outputs": []
    },
    {
      "cell_type": "code",
      "metadata": {
        "id": "M7Evt4TeB-S3",
        "colab_type": "code",
        "colab": {}
      },
      "source": [
        "# Mean age/speed/time\n",
        "dfw.describe()"
      ],
      "execution_count": 0,
      "outputs": []
    },
    {
      "cell_type": "code",
      "metadata": {
        "id": "gzFskbs6CCfY",
        "colab_type": "code",
        "colab": {}
      },
      "source": [
        ""
      ],
      "execution_count": 0,
      "outputs": []
    }
  ]
}